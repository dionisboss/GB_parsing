{
 "cells": [
  {
   "cell_type": "code",
   "execution_count": 1,
   "metadata": {},
   "outputs": [],
   "source": [
    "from pymongo import MongoClient\n",
    "from pprint import pprint\n"
   ]
  },
  {
   "cell_type": "code",
   "execution_count": 2,
   "metadata": {},
   "outputs": [],
   "source": [
    "from bs4 import BeautifulSoup as bs\n",
    "import requests\n",
    "import json\n"
   ]
  },
  {
   "cell_type": "markdown",
   "metadata": {},
   "source": [
    "## Готовим наш парсер и данные для их дальнейшего сохранения в бд"
   ]
  },
  {
   "cell_type": "code",
   "execution_count": 20,
   "metadata": {},
   "outputs": [],
   "source": [
    "# Используем класс, чтобы уже структурно хранить инфу. Также добавил словарь айдишников для разделения хх и с-дж\n",
    "class Vacancies():\n",
    "    def __init__(self,vacancy = 'python'):\n",
    "        self.vacancy = vacancy\n",
    "        self.id_keys = {\n",
    "            'hh':'0',\n",
    "            'sj' :'1'\n",
    "        }\n",
    "        print('You can parse HH and Super Job. Try .hh_Parse() or sj_parse(). To get id keys use showIDkeys()')\n",
    "    def hh_Parse(self):\n",
    "        page_num = 1\n",
    "        base_link='https://hh.ru'\n",
    "\n",
    "        user_agent = 'Mozilla/5.0 (Windows NT 10.0; Win64; x64) AppleWebKit/537.36 (KHTML, like Gecko) Chrome/80.0.3987.163 Safari/537.36'\n",
    "        header = {\n",
    "            'User-Agent':user_agent\n",
    "        }\n",
    "        vacancies_hh = []\n",
    "        id_hh = set()\n",
    "        while True:\n",
    "            main_link = f'https://hh.ru/search/vacancy?L_is_autosearch=false&area=1&clusters=true&enable_snippets=true&text={self.vacancy}&page={str(page_num)}'\n",
    "            response= requests.get(main_link,headers = header).text\n",
    "            soup = bs(response,'lxml')\n",
    "            try:\n",
    "                next_link_part = soup.find_all('a',{'class':'HH-Pager-Controls-Next'})[0]['href']\n",
    "                next_link = base_link+next_link_part\n",
    "            except:\n",
    "                break\n",
    "\n",
    "            if next_link ==f'https://hh.ru/search/vacancy?L_is_autosearch=false&area=1&clusters=true&enable_snippets=true&text={self.vacancy}&page={str(page_num+1)}':\n",
    "\n",
    "               # response= requests.get(main_link,headers = header).text\n",
    "                #soup = bs(response,'lxml')\n",
    "                vacancy_block = soup.find_all('div',{'class':'vacancy-serp'})[0]\n",
    "                vacancy_all = vacancy_block.find_all('div',{'class':'vacancy-serp-item'\n",
    "                })\n",
    "                for vac in vacancy_all:\n",
    "                    vacancy_data = {}\n",
    "                    vacancy_name = vac.find_all('div',{'class':'vacancy-serp-item__info'})[0].find('a').getText()\n",
    "                    vacancy_link = vac.find_all('div',{'class':'vacancy-serp-item__info'})[0].find('a')['href']\n",
    "                    vacancy_id = self.id_keys['hh'] + vacancy_link.rsplit('?',1)[0].rsplit('/',1)[1]\n",
    "                    if '-' in vac.find_all('div',{'class':'vacancy-serp-item__sidebar'})[0].getText():\n",
    "                        vacancy_money_min, vacancy_money_max = vac.find_all('div',{'class':'vacancy-serp-item__sidebar'})[0].getText().split('-')\n",
    "                        vacancy_money_max, currency = vacancy_money_max.rsplit(' ',1)\n",
    "                        currency = currency.rstrip('.')  \n",
    "                        vacancy_data['vacancy_money_min'] = int(vacancy_money_min.replace('\\xa0', ''))\n",
    "                        vacancy_data['vacancy_money_max'] = int(vacancy_money_max.replace('\\xa0', ''))\n",
    "                        vacancy_data['currency'] = currency\n",
    "                        vacancy_data['from_to'] = 'both'\n",
    "                    elif '0' in vac.find_all('div',{'class':'vacancy-serp-item__sidebar'})[0].getText():\n",
    "                        vacancy_money,currency = vac.find_all('div',{'class':'vacancy-serp-item__sidebar'})[0].getText().rsplit(' ',1)\n",
    "                        from_to,vacancy_money = vacancy_money.replace('\\xa0', ' ').split(' ',1)\n",
    "                        currency = currency.rstrip('.')\n",
    "                        if from_to == 'от':\n",
    "                            vacancy_data['vacancy_money_min'] = int(vacancy_money.replace(' ', ''))\n",
    "                            vacancy_data['currency'] = currency\n",
    "                            vacancy_data['from_to'] = from_to\n",
    "                            vacancy_data['vacancy_money_max'] = None\n",
    "                        else:\n",
    "                            vacancy_data['vacancy_money_max'] = int(vacancy_money.replace(' ', ''))\n",
    "                            vacancy_data['vacancy_money_min'] = None\n",
    "                            vacancy_data['currency'] = currency\n",
    "                            vacancy_data['from_to'] = from_to\n",
    "                    else:\n",
    "                        vacancy_data['vacancy_money_min'] = None\n",
    "                        vacancy_data['vacancy_money_max'] = None\n",
    "                        vacancy_data['currency'] = None\n",
    "                        vacancy_data['from_to'] = None\n",
    "                    company = vac.find_all('div',{'class':'vacancy-serp-item__meta-info'})[0].getText().split('-')[0]\n",
    "                    info = [vac.find_all('div',{'class':'g-user-content'})[e].getText() for e in range(len(vac.find_all('div',{'class':'g-user-content'})))]\n",
    "                    source = 'hh'\n",
    "                    vacancy_data['vacancy_name'] = vacancy_name\n",
    "                    vacancy_data['vacancy_link'] = vacancy_link\n",
    "                    vacancy_data['company'] = company.replace('\\xa0', ' ')\n",
    "                    vacancy_data['info'] = info\n",
    "                    vacancy_data['source'] = source\n",
    "                    vacancy_data['_id']=vacancy_id\n",
    "                    vacancies_hh.append(vacancy_data)\n",
    "                    id_hh.add(vacancy_id)\n",
    "                page_num+=1\n",
    "        self.id_hh = id_hh\n",
    "        self.vacancies_hh = vacancies_hh\n",
    "        return self.vacancies_hh,self.id_hh\n",
    "    def sj_parse(self):\n",
    "        page_num = 1\n",
    "        base_link=f'https://www.superjob.ru'\n",
    "\n",
    "        user_agent = 'Mozilla/5.0 (Windows NT 10.0; Win64; x64) AppleWebKit/537.36 (KHTML, like Gecko) Chrome/80.0.3987.163 Safari/537.36'\n",
    "        header = {\n",
    "            'User-Agent':user_agent\n",
    "        }\n",
    "        vacancies_SJ = []\n",
    "        id_sj = set()\n",
    "        count = 1\n",
    "        while True:\n",
    "\n",
    "            main_link = f'https://russia.superjob.ru/vacancy/search/?keywords={self.vacancy}&page={page_num}'\n",
    "            page_num+=1\n",
    "            response= requests.get(main_link,headers = header).text\n",
    "            soup = bs(response,'lxml')\n",
    "            try:\n",
    "                vacancy_block = soup.find_all('div',{'class':'_1ID8B'})[0]\n",
    "            except:\n",
    "                break\n",
    "            vacancy_all = vacancy_block.find_all('div',{'class':'QiY08 LvoDO'})\n",
    "\n",
    "            for vac in vacancy_all:\n",
    "                vacancy_data = {}\n",
    "                vacancy_name = vac.find_all('a',{'class':'icMQ_'})[0].getText()\n",
    "                vacancy_link = base_link+vac.find_all('a',{'class':'icMQ_'})[0]['href']\n",
    "                vacancy_id = self.id_keys['sj']+vacancy_link.rsplit('.',1)[0].rsplit('-',1)[1]\n",
    "                if vac.find_all('span',{'class':'_3mfro _2Wp8I _31tpt f-test-text-company-item-salary PlM3e _2JVkc _2VHxz'})  == []:\n",
    "                    vacancy_data['vacancy_money_min']=None\n",
    "                    vacancy_data['vacancy_money_max']=None\n",
    "                    vacancy_data['currency'] = None\n",
    "                    vacancy_data['from_to'] = None\n",
    "                    vacancy_data['currency'] = None\n",
    "\n",
    "\n",
    "                elif '—' in vac.find_all('span',{'class':'_3mfro _2Wp8I _31tpt f-test-text-company-item-salary PlM3e _2JVkc _2VHxz'})[0].getText():\n",
    "                    vacancy_money_min, vacancy_money_max = vac.find_all('span',{'class':'_3mfro _2Wp8I _31tpt f-test-text-company-item-salary PlM3e _2JVkc _2VHxz'})[0].getText().split('—')\n",
    "                    vacancy_money_max, currency = vacancy_money_max.replace('\\xa0', ' ').rsplit(' ',1)\n",
    "                    currency = currency.rstrip('.')  \n",
    "                    vacancy_data['vacancy_money_min'] = int(vacancy_money_min.replace('\\xa0', ''))\n",
    "                    vacancy_data['vacancy_money_max'] = int(vacancy_money_max.replace(' ', ''))\n",
    "                    vacancy_data['currency'] = currency\n",
    "                    vacancy_data['from_to'] = 'both'\n",
    "\n",
    "\n",
    "                elif '0' in vac.find_all('span',{'class':'_3mfro _2Wp8I _31tpt f-test-text-company-item-salary PlM3e _2JVkc _2VHxz'})[0].getText():\n",
    "                    vacancy_money,currency = vac.find_all('span',{'class':'_3mfro _2Wp8I _31tpt f-test-text-company-item-salary PlM3e _2JVkc _2VHxz'})[0].getText().replace('\\xa0', ' ').rsplit(' ',1)\n",
    "                    from_to,vacancy_money = vacancy_money.replace('\\xa0', ' ').split(' ',1)\n",
    "                    currency = currency.rstrip('.')\n",
    "                    if from_to=='от':\n",
    "                        vacancy_data['vacancy_money_min'] = int(vacancy_money.replace(' ',''))\n",
    "                        vacancy_data['vacancy_money_max'] = None\n",
    "                        vacancy_data['from_to'] = 'от'\n",
    "                    else:\n",
    "                        vacancy_data['vacancy_money_min'] = None\n",
    "                        vacancy_data['vacancy_money_max'] = int(vacancy_money.replace(' ',''))\n",
    "                        vacancy_data['from_to'] = 'до'\n",
    "                    vacancy_data['currency'] = currency\n",
    "\n",
    "                else:\n",
    "                    vacancy_data['vacancy_money_min'] = None\n",
    "                    vacancy_data['vacancy_money_max'] = None\n",
    "                    vacancy_data['currency'] = None\n",
    "                    vacancy_data['from_to'] = None\n",
    "                try:\n",
    "                    company = vac.find_all('span',{'class':'_3mfro _3Fsn4 f-test-text-vacancy-item-company-name _9fXTd _2JVkc _2VHxz _15msI'})[0].getText()\n",
    "                except:\n",
    "                    company = None\n",
    "                info = [vac.find_all('div',{'class':'_3cLIl _3C76h _10Aay _2_FIo _1tH7S'})[e].getText() for e in range(len(vac.find_all('div',{'class':'_3cLIl _3C76h _10Aay _2_FIo _1tH7S'})))]\n",
    "                source = 'SJ'\n",
    "                vacancy_data['vacancy_name'] = vacancy_name\n",
    "                vacancy_data['vacancy_link'] = vacancy_link\n",
    "                vacancy_data['company'] = company\n",
    "                vacancy_data['info'] = info\n",
    "                vacancy_data['source'] = source\n",
    "                vacancy_data['_id']=vacancy_id\n",
    "                id_sj.add(vacancy_id)\n",
    "                vacancies_SJ.append(vacancy_data)\n",
    "                \n",
    "        self.vacancies_SJ = vacancies_SJ\n",
    "        self.id_sj = id_sj\n",
    "        return self.vacancies_SJ,self.id_sj\n",
    "    def showIDKeys(self):\n",
    "        return self.id_keys\n",
    "    def total_Vac(self):\n",
    "        sj_vacancies,id_sj = self.sj_parse()\n",
    "        hh_vacancies,id_hh = self.hh_Parse()\n",
    "        total_vacancies= sj_vacancies+hh_vacancies\n",
    "        id_total = id_sj|id_hh\n",
    "        return total_vacancies,id_total\n",
    "        \n",
    "        "
   ]
  },
  {
   "cell_type": "code",
   "execution_count": 76,
   "metadata": {},
   "outputs": [
    {
     "name": "stdout",
     "output_type": "stream",
     "text": [
      "You can parse HH and Super Job. Try .hh_Parse() or sj_parse(). To get id keys use showIDkeys()\n"
     ]
    }
   ],
   "source": [
    "Vacanciess = Vacancies('python')"
   ]
  },
  {
   "cell_type": "code",
   "execution_count": 77,
   "metadata": {},
   "outputs": [],
   "source": [
    "total_vac,total_id = Vacanciess.total_Vac()"
   ]
  },
  {
   "cell_type": "markdown",
   "metadata": {},
   "source": [
    "## Данные подготовили. Начинаем работать с БД"
   ]
  },
  {
   "cell_type": "code",
   "execution_count": 5,
   "metadata": {},
   "outputs": [],
   "source": [
    "client = MongoClient('127.0.0.1',27017)"
   ]
  },
  {
   "cell_type": "code",
   "execution_count": 62,
   "metadata": {},
   "outputs": [],
   "source": [
    "db = client['Job_Vacancies']\n",
    "vacancies = db.vacancies\n",
    "ids = db.ids"
   ]
  },
  {
   "cell_type": "code",
   "execution_count": 74,
   "metadata": {},
   "outputs": [],
   "source": [
    "# Добавляет только новые вакансии с той базы, что я спарсил\n",
    "def addData_All(total_vac):\n",
    "    count = 0\n",
    "    count2 = 0\n",
    "    for e in total_vac:\n",
    "        try:\n",
    "            vacancies.insert_one(e)\n",
    "            count2+=1\n",
    "        except:\n",
    "            count+=1\n",
    "            continue\n",
    "    print('Done', count,': Duplicates dropped','\\n', count2, 'new values added')"
   ]
  },
  {
   "cell_type": "code",
   "execution_count": 78,
   "metadata": {},
   "outputs": [
    {
     "name": "stdout",
     "output_type": "stream",
     "text": [
      "Done 1945 : Duplicates dropped \n",
      " 0 new values added\n"
     ]
    }
   ],
   "source": [
    "addData_All(total_vac)"
   ]
  },
  {
   "cell_type": "code",
   "execution_count": 54,
   "metadata": {},
   "outputs": [],
   "source": [
    "def searchVac_more(num):\n",
    "    count = 1\n",
    "    filtered_list = []\n",
    "    for vac in vacancies.find({\n",
    "        '$or':[\n",
    "            {'$and':[{'$and':[{'from_to':{'$ne':'both'}},{'from_to':{'$ne':None}}]},{'$or':[{'vacancy_money_min':{'$gte':num}},{'vacancy_money_max':{'$gte':num}}]}]}\n",
    "            ,\n",
    "\n",
    "            {'$and':[{'from_to':{'$eq':'both'}},{'vacancy_money_min':{'$gte':num}}]}\n",
    "        ]\n",
    "    }):\n",
    "        filtered_list.append(vac)\n",
    "        count+=1\n",
    "    print(f'Total vacancies of your criteria{count}')\n",
    "    return filtered_list"
   ]
  },
  {
   "cell_type": "code",
   "execution_count": 58,
   "metadata": {},
   "outputs": [
    {
     "name": "stdout",
     "output_type": "stream",
     "text": [
      "Total vacancies of your criteria361\n"
     ]
    },
    {
     "data": {
      "text/plain": [
       "{'_id': '133742193',\n",
       " 'vacancy_money_min': 110000,\n",
       " 'vacancy_money_max': None,\n",
       " 'from_to': 'от',\n",
       " 'currency': 'руб',\n",
       " 'vacancy_name': 'Ведущий разработчик программного обеспечения (senior Python developer)',\n",
       " 'vacancy_link': 'https://www.superjob.ru/vakansii/veduschij-razrabotchik-programmnogo-obespecheniya-33742193.html',\n",
       " 'company': 'Макрософт',\n",
       " 'info': ['Разработка back-end features in Python. Создание / разработка функционала. Интеграция front-end компонентов в приложениеПрактический опыт работы непосредственно в разработке ПО в качестве одной из ролей (программист, системный аналитик, системный…'],\n",
       " 'source': 'SJ'}"
      ]
     },
     "execution_count": 58,
     "metadata": {},
     "output_type": "execute_result"
    }
   ],
   "source": [
    "searchVac_more(10000)[0]"
   ]
  },
  {
   "cell_type": "code",
   "execution_count": null,
   "metadata": {},
   "outputs": [],
   "source": []
  },
  {
   "cell_type": "code",
   "execution_count": null,
   "metadata": {},
   "outputs": [],
   "source": []
  },
  {
   "cell_type": "code",
   "execution_count": null,
   "metadata": {},
   "outputs": [],
   "source": []
  },
  {
   "cell_type": "code",
   "execution_count": null,
   "metadata": {},
   "outputs": [],
   "source": []
  },
  {
   "cell_type": "code",
   "execution_count": null,
   "metadata": {},
   "outputs": [],
   "source": []
  }
 ],
 "metadata": {
  "kernelspec": {
   "display_name": "Python 3",
   "language": "python",
   "name": "python3"
  },
  "language_info": {
   "codemirror_mode": {
    "name": "ipython",
    "version": 3
   },
   "file_extension": ".py",
   "mimetype": "text/x-python",
   "name": "python",
   "nbconvert_exporter": "python",
   "pygments_lexer": "ipython3",
   "version": "3.7.4"
  }
 },
 "nbformat": 4,
 "nbformat_minor": 4
}
